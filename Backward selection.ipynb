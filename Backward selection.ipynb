{
 "cells": [
  {
   "cell_type": "code",
   "execution_count": 147,
   "id": "f63cc384",
   "metadata": {},
   "outputs": [],
   "source": [
    "#importing necessary Liberaries"
   ]
  },
  {
   "cell_type": "code",
   "execution_count": 120,
   "id": "74ac72d3",
   "metadata": {},
   "outputs": [],
   "source": [
    "import statsmodels.api as sm\n",
    "import pandas as pd \n",
    "from sklearn.preprocessing import StandardScaler\n",
    "from sklearn.model_selection import cross_val_score, train_test_split\n",
    "import numpy as np\n",
    "from sklearn.linear_model import LogisticRegression\n",
    "from sklearn.metrics import accuracy_score\n",
    "from sklearn.metrics import confusion_matrix"
   ]
  },
  {
   "cell_type": "code",
   "execution_count": 121,
   "id": "ae32be70",
   "metadata": {},
   "outputs": [
    {
     "data": {
      "text/html": [
       "<div>\n",
       "<style scoped>\n",
       "    .dataframe tbody tr th:only-of-type {\n",
       "        vertical-align: middle;\n",
       "    }\n",
       "\n",
       "    .dataframe tbody tr th {\n",
       "        vertical-align: top;\n",
       "    }\n",
       "\n",
       "    .dataframe thead th {\n",
       "        text-align: right;\n",
       "    }\n",
       "</style>\n",
       "<table border=\"1\" class=\"dataframe\">\n",
       "  <thead>\n",
       "    <tr style=\"text-align: right;\">\n",
       "      <th></th>\n",
       "      <th>male</th>\n",
       "      <th>age</th>\n",
       "      <th>education</th>\n",
       "      <th>currentSmoker</th>\n",
       "      <th>cigsPerDay</th>\n",
       "      <th>BPMeds</th>\n",
       "      <th>prevalentStroke</th>\n",
       "      <th>prevalentHyp</th>\n",
       "      <th>diabetes</th>\n",
       "      <th>totChol</th>\n",
       "      <th>sysBP</th>\n",
       "      <th>diaBP</th>\n",
       "      <th>BMI</th>\n",
       "      <th>heartRate</th>\n",
       "      <th>glucose</th>\n",
       "      <th>TenYearCHD</th>\n",
       "    </tr>\n",
       "  </thead>\n",
       "  <tbody>\n",
       "    <tr>\n",
       "      <th>4233</th>\n",
       "      <td>1</td>\n",
       "      <td>50</td>\n",
       "      <td>1.0</td>\n",
       "      <td>1</td>\n",
       "      <td>1.0</td>\n",
       "      <td>0.0</td>\n",
       "      <td>0</td>\n",
       "      <td>1</td>\n",
       "      <td>0</td>\n",
       "      <td>313.0</td>\n",
       "      <td>179.0</td>\n",
       "      <td>92.0</td>\n",
       "      <td>25.97</td>\n",
       "      <td>66.0</td>\n",
       "      <td>86.0</td>\n",
       "      <td>1</td>\n",
       "    </tr>\n",
       "    <tr>\n",
       "      <th>4234</th>\n",
       "      <td>1</td>\n",
       "      <td>51</td>\n",
       "      <td>3.0</td>\n",
       "      <td>1</td>\n",
       "      <td>43.0</td>\n",
       "      <td>0.0</td>\n",
       "      <td>0</td>\n",
       "      <td>0</td>\n",
       "      <td>0</td>\n",
       "      <td>207.0</td>\n",
       "      <td>126.5</td>\n",
       "      <td>80.0</td>\n",
       "      <td>19.71</td>\n",
       "      <td>65.0</td>\n",
       "      <td>68.0</td>\n",
       "      <td>0</td>\n",
       "    </tr>\n",
       "    <tr>\n",
       "      <th>4235</th>\n",
       "      <td>0</td>\n",
       "      <td>48</td>\n",
       "      <td>2.0</td>\n",
       "      <td>1</td>\n",
       "      <td>20.0</td>\n",
       "      <td>NaN</td>\n",
       "      <td>0</td>\n",
       "      <td>0</td>\n",
       "      <td>0</td>\n",
       "      <td>248.0</td>\n",
       "      <td>131.0</td>\n",
       "      <td>72.0</td>\n",
       "      <td>22.00</td>\n",
       "      <td>84.0</td>\n",
       "      <td>86.0</td>\n",
       "      <td>0</td>\n",
       "    </tr>\n",
       "    <tr>\n",
       "      <th>4236</th>\n",
       "      <td>0</td>\n",
       "      <td>44</td>\n",
       "      <td>1.0</td>\n",
       "      <td>1</td>\n",
       "      <td>15.0</td>\n",
       "      <td>0.0</td>\n",
       "      <td>0</td>\n",
       "      <td>0</td>\n",
       "      <td>0</td>\n",
       "      <td>210.0</td>\n",
       "      <td>126.5</td>\n",
       "      <td>87.0</td>\n",
       "      <td>19.16</td>\n",
       "      <td>86.0</td>\n",
       "      <td>NaN</td>\n",
       "      <td>0</td>\n",
       "    </tr>\n",
       "    <tr>\n",
       "      <th>4237</th>\n",
       "      <td>0</td>\n",
       "      <td>52</td>\n",
       "      <td>2.0</td>\n",
       "      <td>0</td>\n",
       "      <td>0.0</td>\n",
       "      <td>0.0</td>\n",
       "      <td>0</td>\n",
       "      <td>0</td>\n",
       "      <td>0</td>\n",
       "      <td>269.0</td>\n",
       "      <td>133.5</td>\n",
       "      <td>83.0</td>\n",
       "      <td>21.47</td>\n",
       "      <td>80.0</td>\n",
       "      <td>107.0</td>\n",
       "      <td>0</td>\n",
       "    </tr>\n",
       "  </tbody>\n",
       "</table>\n",
       "</div>"
      ],
      "text/plain": [
       "      male  age  education  currentSmoker  cigsPerDay  BPMeds  \\\n",
       "4233     1   50        1.0              1         1.0     0.0   \n",
       "4234     1   51        3.0              1        43.0     0.0   \n",
       "4235     0   48        2.0              1        20.0     NaN   \n",
       "4236     0   44        1.0              1        15.0     0.0   \n",
       "4237     0   52        2.0              0         0.0     0.0   \n",
       "\n",
       "      prevalentStroke  prevalentHyp  diabetes  totChol  sysBP  diaBP    BMI  \\\n",
       "4233                0             1         0    313.0  179.0   92.0  25.97   \n",
       "4234                0             0         0    207.0  126.5   80.0  19.71   \n",
       "4235                0             0         0    248.0  131.0   72.0  22.00   \n",
       "4236                0             0         0    210.0  126.5   87.0  19.16   \n",
       "4237                0             0         0    269.0  133.5   83.0  21.47   \n",
       "\n",
       "      heartRate  glucose  TenYearCHD  \n",
       "4233       66.0     86.0           1  \n",
       "4234       65.0     68.0           0  \n",
       "4235       84.0     86.0           0  \n",
       "4236       86.0      NaN           0  \n",
       "4237       80.0    107.0           0  "
      ]
     },
     "execution_count": 121,
     "metadata": {},
     "output_type": "execute_result"
    }
   ],
   "source": [
    "#importing dataset\n",
    "df=pd.read_csv(\"framingham.csv\")\n",
    "df.tail()"
   ]
  },
  {
   "cell_type": "code",
   "execution_count": 122,
   "id": "e6ff28b6",
   "metadata": {},
   "outputs": [
    {
     "data": {
      "text/plain": [
       "male                 0\n",
       "age                  0\n",
       "education          105\n",
       "currentSmoker        0\n",
       "cigsPerDay          29\n",
       "BPMeds              53\n",
       "prevalentStroke      0\n",
       "prevalentHyp         0\n",
       "diabetes             0\n",
       "totChol             50\n",
       "sysBP                0\n",
       "diaBP                0\n",
       "BMI                 19\n",
       "heartRate            1\n",
       "glucose            388\n",
       "TenYearCHD           0\n",
       "dtype: int64"
      ]
     },
     "execution_count": 122,
     "metadata": {},
     "output_type": "execute_result"
    }
   ],
   "source": [
    "#checking if there is any null value\n",
    "df.isnull().sum()"
   ]
  },
  {
   "cell_type": "code",
   "execution_count": 123,
   "id": "fbecaf1b",
   "metadata": {},
   "outputs": [],
   "source": [
    "#Filling missing values\n",
    "df['education'].fillna(int(df['education'].mode()), inplace=True)\n",
    "df['cigsPerDay'].fillna(int(df['cigsPerDay'].mean()), inplace=True)\n",
    "df['BPMeds'].fillna(int(df['BPMeds'].mean()), inplace=True)\n",
    "df['totChol'].fillna(int(df['totChol'].mean()), inplace=True)\n",
    "df['BMI'].fillna(int(df['BMI'].mean()), inplace=True)\n",
    "df['heartRate'].fillna(int(df['heartRate'].mean()), inplace=True)\n",
    "df['glucose'].fillna(int(df['glucose'].mean()), inplace=True)\n"
   ]
  },
  {
   "cell_type": "code",
   "execution_count": 124,
   "id": "a5d8d81e",
   "metadata": {},
   "outputs": [],
   "source": [
    "#Splitting independent and dependent value\n",
    "X = df.drop('TenYearCHD', axis=1)\n",
    "X= sm.add_constant(X)\n",
    "y = df['TenYearCHD']\n"
   ]
  },
  {
   "cell_type": "code",
   "execution_count": 125,
   "id": "b8ccdbdc",
   "metadata": {},
   "outputs": [],
   "source": [
    "#Feature selection by backward elimination"
   ]
  },
  {
   "cell_type": "code",
   "execution_count": 126,
   "id": "f34722c5",
   "metadata": {},
   "outputs": [
    {
     "name": "stdout",
     "output_type": "stream",
     "text": [
      "Optimization terminated successfully.\n",
      "         Current function value: 0.378661\n",
      "         Iterations 7\n",
      "                           Logit Regression Results                           \n",
      "==============================================================================\n",
      "Dep. Variable:             TenYearCHD   No. Observations:                 4238\n",
      "Model:                          Logit   Df Residuals:                     4222\n",
      "Method:                           MLE   Df Model:                           15\n",
      "Date:                Mon, 16 Aug 2021   Pseudo R-squ.:                  0.1113\n",
      "Time:                        22:30:18   Log-Likelihood:                -1604.8\n",
      "converged:                       True   LL-Null:                       -1805.8\n",
      "Covariance Type:            nonrobust   LLR p-value:                 2.606e-76\n",
      "===================================================================================\n",
      "                      coef    std err          z      P>|z|      [0.025      0.975]\n",
      "-----------------------------------------------------------------------------------\n",
      "const              -8.1101      0.665    -12.197      0.000      -9.413      -6.807\n",
      "male                0.5061      0.100      5.042      0.000       0.309       0.703\n",
      "age                 0.0621      0.006      9.986      0.000       0.050       0.074\n",
      "education          -0.0115      0.046     -0.252      0.801      -0.101       0.078\n",
      "currentSmoker       0.0138      0.144      0.096      0.924      -0.269       0.296\n",
      "cigsPerDay          0.0212      0.006      3.709      0.000       0.010       0.032\n",
      "BPMeds              0.2448      0.220      1.112      0.266      -0.187       0.676\n",
      "prevalentStroke     0.9635      0.441      2.183      0.029       0.098       1.829\n",
      "prevalentHyp        0.2318      0.128      1.804      0.071      -0.020       0.484\n",
      "diabetes            0.1929      0.294      0.656      0.512      -0.383       0.769\n",
      "totChol             0.0018      0.001      1.784      0.075      -0.000       0.004\n",
      "sysBP               0.0141      0.004      3.991      0.000       0.007       0.021\n",
      "diaBP              -0.0029      0.006     -0.480      0.631      -0.015       0.009\n",
      "BMI                 0.0028      0.012      0.234      0.815      -0.020       0.026\n",
      "heartRate          -0.0015      0.004     -0.384      0.701      -0.009       0.006\n",
      "glucose             0.0067      0.002      3.118      0.002       0.002       0.011\n",
      "===================================================================================\n"
     ]
    }
   ],
   "source": [
    "log_reg = sm.Logit(y, X).fit()\n",
    "print(log_reg.summary())"
   ]
  },
  {
   "cell_type": "code",
   "execution_count": 127,
   "id": "e9190f8d",
   "metadata": {},
   "outputs": [
    {
     "name": "stdout",
     "output_type": "stream",
     "text": [
      "Optimization terminated successfully.\n",
      "         Current function value: 0.378662\n",
      "         Iterations 7\n",
      "                           Logit Regression Results                           \n",
      "==============================================================================\n",
      "Dep. Variable:             TenYearCHD   No. Observations:                 4238\n",
      "Model:                          Logit   Df Residuals:                     4223\n",
      "Method:                           MLE   Df Model:                           14\n",
      "Date:                Mon, 16 Aug 2021   Pseudo R-squ.:                  0.1113\n",
      "Time:                        22:30:19   Log-Likelihood:                -1604.8\n",
      "converged:                       True   LL-Null:                       -1805.8\n",
      "Covariance Type:            nonrobust   LLR p-value:                 4.785e-77\n",
      "===================================================================================\n",
      "                      coef    std err          z      P>|z|      [0.025      0.975]\n",
      "-----------------------------------------------------------------------------------\n",
      "const              -8.1011      0.658    -12.306      0.000      -9.391      -6.811\n",
      "male                0.5060      0.100      5.041      0.000       0.309       0.703\n",
      "age                 0.0621      0.006     10.003      0.000       0.050       0.074\n",
      "education          -0.0116      0.046     -0.253      0.800      -0.101       0.078\n",
      "cigsPerDay          0.0216      0.004      5.512      0.000       0.014       0.029\n",
      "BPMeds              0.2449      0.220      1.112      0.266      -0.187       0.676\n",
      "prevalentStroke     0.9631      0.441      2.182      0.029       0.098       1.828\n",
      "prevalentHyp        0.2317      0.128      1.803      0.071      -0.020       0.483\n",
      "diabetes            0.1926      0.294      0.655      0.513      -0.384       0.769\n",
      "totChol             0.0018      0.001      1.782      0.075      -0.000       0.004\n",
      "sysBP               0.0141      0.004      3.992      0.000       0.007       0.021\n",
      "diaBP              -0.0029      0.006     -0.481      0.630      -0.015       0.009\n",
      "BMI                 0.0026      0.012      0.224      0.823      -0.020       0.026\n",
      "heartRate          -0.0015      0.004     -0.382      0.703      -0.009       0.006\n",
      "glucose             0.0067      0.002      3.118      0.002       0.002       0.011\n",
      "===================================================================================\n"
     ]
    }
   ],
   "source": [
    "X = X.drop('currentSmoker', axis=1)\n",
    "log_reg = sm.Logit(y, X).fit()\n",
    "print(log_reg.summary())"
   ]
  },
  {
   "cell_type": "code",
   "execution_count": 128,
   "id": "863a3052",
   "metadata": {},
   "outputs": [
    {
     "name": "stdout",
     "output_type": "stream",
     "text": [
      "Optimization terminated successfully.\n",
      "         Current function value: 0.378668\n",
      "         Iterations 7\n",
      "                           Logit Regression Results                           \n",
      "==============================================================================\n",
      "Dep. Variable:             TenYearCHD   No. Observations:                 4238\n",
      "Model:                          Logit   Df Residuals:                     4224\n",
      "Method:                           MLE   Df Model:                           13\n",
      "Date:                Mon, 16 Aug 2021   Pseudo R-squ.:                  0.1113\n",
      "Time:                        22:30:19   Log-Likelihood:                -1604.8\n",
      "converged:                       True   LL-Null:                       -1805.8\n",
      "Covariance Type:            nonrobust   LLR p-value:                 8.628e-78\n",
      "===================================================================================\n",
      "                      coef    std err          z      P>|z|      [0.025      0.975]\n",
      "-----------------------------------------------------------------------------------\n",
      "const              -8.0515      0.620    -12.993      0.000      -9.266      -6.837\n",
      "male                0.5070      0.100      5.057      0.000       0.311       0.704\n",
      "age                 0.0620      0.006     10.001      0.000       0.050       0.074\n",
      "education          -0.0128      0.045     -0.282      0.778      -0.102       0.076\n",
      "cigsPerDay          0.0215      0.004      5.510      0.000       0.014       0.029\n",
      "BPMeds              0.2461      0.220      1.118      0.264      -0.185       0.677\n",
      "prevalentStroke     0.9632      0.441      2.183      0.029       0.098       1.828\n",
      "prevalentHyp        0.2337      0.128      1.823      0.068      -0.018       0.485\n",
      "diabetes            0.1965      0.293      0.670      0.503      -0.379       0.772\n",
      "totChol             0.0018      0.001      1.789      0.074      -0.000       0.004\n",
      "sysBP               0.0141      0.004      3.989      0.000       0.007       0.021\n",
      "diaBP              -0.0026      0.006     -0.447      0.655      -0.014       0.009\n",
      "heartRate          -0.0015      0.004     -0.381      0.703      -0.009       0.006\n",
      "glucose             0.0067      0.002      3.119      0.002       0.002       0.011\n",
      "===================================================================================\n"
     ]
    }
   ],
   "source": [
    "X = X.drop('BMI', axis=1)\n",
    "log_reg = sm.Logit(y, X).fit()\n",
    "print(log_reg.summary())"
   ]
  },
  {
   "cell_type": "code",
   "execution_count": 129,
   "id": "e7cbcec8",
   "metadata": {},
   "outputs": [
    {
     "name": "stdout",
     "output_type": "stream",
     "text": [
      "Optimization terminated successfully.\n",
      "         Current function value: 0.378678\n",
      "         Iterations 7\n",
      "                           Logit Regression Results                           \n",
      "==============================================================================\n",
      "Dep. Variable:             TenYearCHD   No. Observations:                 4238\n",
      "Model:                          Logit   Df Residuals:                     4225\n",
      "Method:                           MLE   Df Model:                           12\n",
      "Date:                Mon, 16 Aug 2021   Pseudo R-squ.:                  0.1113\n",
      "Time:                        22:30:19   Log-Likelihood:                -1604.8\n",
      "converged:                       True   LL-Null:                       -1805.8\n",
      "Covariance Type:            nonrobust   LLR p-value:                 1.514e-78\n",
      "===================================================================================\n",
      "                      coef    std err          z      P>|z|      [0.025      0.975]\n",
      "-----------------------------------------------------------------------------------\n",
      "const              -8.0909      0.604    -13.399      0.000      -9.274      -6.907\n",
      "male                0.5070      0.100      5.057      0.000       0.310       0.704\n",
      "age                 0.0623      0.006     10.109      0.000       0.050       0.074\n",
      "cigsPerDay          0.0215      0.004      5.516      0.000       0.014       0.029\n",
      "BPMeds              0.2447      0.220      1.112      0.266      -0.186       0.676\n",
      "prevalentStroke     0.9670      0.441      2.194      0.028       0.103       1.831\n",
      "prevalentHyp        0.2335      0.128      1.822      0.069      -0.018       0.485\n",
      "diabetes            0.1978      0.293      0.674      0.500      -0.377       0.773\n",
      "totChol             0.0018      0.001      1.778      0.075      -0.000       0.004\n",
      "sysBP               0.0142      0.004      4.025      0.000       0.007       0.021\n",
      "diaBP              -0.0027      0.006     -0.463      0.643      -0.014       0.009\n",
      "heartRate          -0.0014      0.004     -0.371      0.711      -0.009       0.006\n",
      "glucose             0.0067      0.002      3.119      0.002       0.002       0.011\n",
      "===================================================================================\n"
     ]
    }
   ],
   "source": [
    "X = X.drop('education', axis=1)\n",
    "log_reg = sm.Logit(y, X).fit()\n",
    "print(log_reg.summary())"
   ]
  },
  {
   "cell_type": "code",
   "execution_count": 130,
   "id": "83fffa7f",
   "metadata": {
    "scrolled": false
   },
   "outputs": [
    {
     "name": "stdout",
     "output_type": "stream",
     "text": [
      "Optimization terminated successfully.\n",
      "         Current function value: 0.378694\n",
      "         Iterations 7\n",
      "                           Logit Regression Results                           \n",
      "==============================================================================\n",
      "Dep. Variable:             TenYearCHD   No. Observations:                 4238\n",
      "Model:                          Logit   Df Residuals:                     4226\n",
      "Method:                           MLE   Df Model:                           11\n",
      "Date:                Mon, 16 Aug 2021   Pseudo R-squ.:                  0.1112\n",
      "Time:                        22:30:20   Log-Likelihood:                -1604.9\n",
      "converged:                       True   LL-Null:                       -1805.8\n",
      "Covariance Type:            nonrobust   LLR p-value:                 2.613e-79\n",
      "===================================================================================\n",
      "                      coef    std err          z      P>|z|      [0.025      0.975]\n",
      "-----------------------------------------------------------------------------------\n",
      "const              -8.1783      0.556    -14.699      0.000      -9.269      -7.088\n",
      "male                0.5119      0.099      5.152      0.000       0.317       0.707\n",
      "age                 0.0624      0.006     10.161      0.000       0.050       0.074\n",
      "cigsPerDay          0.0213      0.004      5.516      0.000       0.014       0.029\n",
      "BPMeds              0.2481      0.220      1.128      0.259      -0.183       0.679\n",
      "prevalentStroke     0.9719      0.441      2.206      0.027       0.109       1.835\n",
      "prevalentHyp        0.2311      0.128      1.805      0.071      -0.020       0.482\n",
      "diabetes            0.1987      0.293      0.678      0.498      -0.376       0.773\n",
      "totChol             0.0018      0.001      1.758      0.079      -0.000       0.004\n",
      "sysBP               0.0141      0.004      4.011      0.000       0.007       0.021\n",
      "diaBP              -0.0028      0.006     -0.482      0.630      -0.014       0.009\n",
      "glucose             0.0066      0.002      3.101      0.002       0.002       0.011\n",
      "===================================================================================\n"
     ]
    }
   ],
   "source": [
    "X = X.drop('heartRate', axis=1)\n",
    "log_reg = sm.Logit(y, X).fit()\n",
    "print(log_reg.summary())"
   ]
  },
  {
   "cell_type": "code",
   "execution_count": 131,
   "id": "da7f2bbf",
   "metadata": {},
   "outputs": [
    {
     "name": "stdout",
     "output_type": "stream",
     "text": [
      "Optimization terminated successfully.\n",
      "         Current function value: 0.378721\n",
      "         Iterations 7\n",
      "                           Logit Regression Results                           \n",
      "==============================================================================\n",
      "Dep. Variable:             TenYearCHD   No. Observations:                 4238\n",
      "Model:                          Logit   Df Residuals:                     4227\n",
      "Method:                           MLE   Df Model:                           10\n",
      "Date:                Mon, 16 Aug 2021   Pseudo R-squ.:                  0.1112\n",
      "Time:                        22:30:20   Log-Likelihood:                -1605.0\n",
      "converged:                       True   LL-Null:                       -1805.8\n",
      "Covariance Type:            nonrobust   LLR p-value:                 4.494e-80\n",
      "===================================================================================\n",
      "                      coef    std err          z      P>|z|      [0.025      0.975]\n",
      "-----------------------------------------------------------------------------------\n",
      "const              -8.2984      0.498    -16.657      0.000      -9.275      -7.322\n",
      "male                0.5055      0.098      5.134      0.000       0.313       0.698\n",
      "age                 0.0631      0.006     10.548      0.000       0.051       0.075\n",
      "cigsPerDay          0.0214      0.004      5.546      0.000       0.014       0.029\n",
      "BPMeds              0.2490      0.220      1.134      0.257      -0.182       0.679\n",
      "prevalentStroke     0.9703      0.440      2.203      0.028       0.107       1.833\n",
      "prevalentHyp        0.2212      0.126      1.751      0.080      -0.026       0.469\n",
      "diabetes            0.2022      0.293      0.690      0.490      -0.372       0.777\n",
      "totChol             0.0018      0.001      1.756      0.079      -0.000       0.004\n",
      "sysBP               0.0130      0.003      4.854      0.000       0.008       0.018\n",
      "glucose             0.0067      0.002      3.116      0.002       0.002       0.011\n",
      "===================================================================================\n"
     ]
    }
   ],
   "source": [
    "X = X.drop('diaBP', axis=1)\n",
    "log_reg = sm.Logit(y, X).fit()\n",
    "print(log_reg.summary())"
   ]
  },
  {
   "cell_type": "code",
   "execution_count": 132,
   "id": "37a5596d",
   "metadata": {},
   "outputs": [
    {
     "name": "stdout",
     "output_type": "stream",
     "text": [
      "Optimization terminated successfully.\n",
      "         Current function value: 0.378776\n",
      "         Iterations 7\n",
      "                           Logit Regression Results                           \n",
      "==============================================================================\n",
      "Dep. Variable:             TenYearCHD   No. Observations:                 4238\n",
      "Model:                          Logit   Df Residuals:                     4228\n",
      "Method:                           MLE   Df Model:                            9\n",
      "Date:                Mon, 16 Aug 2021   Pseudo R-squ.:                  0.1110\n",
      "Time:                        22:30:20   Log-Likelihood:                -1605.3\n",
      "converged:                       True   LL-Null:                       -1805.8\n",
      "Covariance Type:            nonrobust   LLR p-value:                 8.215e-81\n",
      "===================================================================================\n",
      "                      coef    std err          z      P>|z|      [0.025      0.975]\n",
      "-----------------------------------------------------------------------------------\n",
      "const              -8.3800      0.484    -17.302      0.000      -9.329      -7.431\n",
      "male                0.5070      0.098      5.151      0.000       0.314       0.700\n",
      "age                 0.0632      0.006     10.564      0.000       0.051       0.075\n",
      "cigsPerDay          0.0214      0.004      5.532      0.000       0.014       0.029\n",
      "BPMeds              0.2525      0.220      1.150      0.250      -0.178       0.683\n",
      "prevalentStroke     0.9654      0.440      2.193      0.028       0.103       1.828\n",
      "prevalentHyp        0.2217      0.126      1.756      0.079      -0.026       0.469\n",
      "totChol             0.0018      0.001      1.760      0.078      -0.000       0.004\n",
      "sysBP               0.0131      0.003      4.864      0.000       0.008       0.018\n",
      "glucose             0.0076      0.002      4.659      0.000       0.004       0.011\n",
      "===================================================================================\n"
     ]
    }
   ],
   "source": [
    "X = X.drop('diabetes', axis=1)\n",
    "log_reg = sm.Logit(y, X).fit()\n",
    "print(log_reg.summary())"
   ]
  },
  {
   "cell_type": "code",
   "execution_count": 133,
   "id": "2a89064c",
   "metadata": {},
   "outputs": [
    {
     "name": "stdout",
     "output_type": "stream",
     "text": [
      "Optimization terminated successfully.\n",
      "         Current function value: 0.378929\n",
      "         Iterations 7\n",
      "                           Logit Regression Results                           \n",
      "==============================================================================\n",
      "Dep. Variable:             TenYearCHD   No. Observations:                 4238\n",
      "Model:                          Logit   Df Residuals:                     4229\n",
      "Method:                           MLE   Df Model:                            8\n",
      "Date:                Mon, 16 Aug 2021   Pseudo R-squ.:                  0.1107\n",
      "Time:                        22:30:20   Log-Likelihood:                -1605.9\n",
      "converged:                       True   LL-Null:                       -1805.8\n",
      "Covariance Type:            nonrobust   LLR p-value:                 2.123e-81\n",
      "===================================================================================\n",
      "                      coef    std err          z      P>|z|      [0.025      0.975]\n",
      "-----------------------------------------------------------------------------------\n",
      "const              -8.4292      0.483    -17.469      0.000      -9.375      -7.483\n",
      "male                0.5024      0.098      5.111      0.000       0.310       0.695\n",
      "age                 0.0632      0.006     10.571      0.000       0.051       0.075\n",
      "cigsPerDay          0.0213      0.004      5.521      0.000       0.014       0.029\n",
      "prevalentStroke     1.0183      0.438      2.325      0.020       0.160       1.877\n",
      "prevalentHyp        0.2344      0.126      1.866      0.062      -0.012       0.481\n",
      "totChol             0.0018      0.001      1.788      0.074      -0.000       0.004\n",
      "sysBP               0.0134      0.003      5.026      0.000       0.008       0.019\n",
      "glucose             0.0076      0.002      4.667      0.000       0.004       0.011\n",
      "===================================================================================\n"
     ]
    }
   ],
   "source": [
    "X = X.drop('BPMeds', axis=1)\n",
    "log_reg = sm.Logit(y, X).fit()\n",
    "print(log_reg.summary())"
   ]
  },
  {
   "cell_type": "code",
   "execution_count": 134,
   "id": "f1c1354b",
   "metadata": {},
   "outputs": [
    {
     "name": "stdout",
     "output_type": "stream",
     "text": [
      "Optimization terminated successfully.\n",
      "         Current function value: 0.379302\n",
      "         Iterations 7\n",
      "                           Logit Regression Results                           \n",
      "==============================================================================\n",
      "Dep. Variable:             TenYearCHD   No. Observations:                 4238\n",
      "Model:                          Logit   Df Residuals:                     4230\n",
      "Method:                           MLE   Df Model:                            7\n",
      "Date:                Mon, 16 Aug 2021   Pseudo R-squ.:                  0.1098\n",
      "Time:                        22:30:21   Log-Likelihood:                -1607.5\n",
      "converged:                       True   LL-Null:                       -1805.8\n",
      "Covariance Type:            nonrobust   LLR p-value:                 1.287e-81\n",
      "===================================================================================\n",
      "                      coef    std err          z      P>|z|      [0.025      0.975]\n",
      "-----------------------------------------------------------------------------------\n",
      "const              -8.0769      0.437    -18.476      0.000      -8.934      -7.220\n",
      "male                0.4792      0.097      4.924      0.000       0.288       0.670\n",
      "age                 0.0643      0.006     10.830      0.000       0.053       0.076\n",
      "cigsPerDay          0.0215      0.004      5.585      0.000       0.014       0.029\n",
      "prevalentStroke     0.9999      0.437      2.286      0.022       0.143       1.857\n",
      "prevalentHyp        0.2397      0.126      1.907      0.056      -0.007       0.486\n",
      "sysBP               0.0137      0.003      5.140      0.000       0.008       0.019\n",
      "glucose             0.0076      0.002      4.694      0.000       0.004       0.011\n",
      "===================================================================================\n"
     ]
    }
   ],
   "source": [
    "X = X.drop('totChol', axis=1)\n",
    "log_reg = sm.Logit(y, X).fit()\n",
    "print(log_reg.summary())"
   ]
  },
  {
   "cell_type": "code",
   "execution_count": 135,
   "id": "e7f7b473",
   "metadata": {},
   "outputs": [
    {
     "name": "stdout",
     "output_type": "stream",
     "text": [
      "Optimization terminated successfully.\n",
      "         Current function value: 0.379728\n",
      "         Iterations 7\n",
      "                           Logit Regression Results                           \n",
      "==============================================================================\n",
      "Dep. Variable:             TenYearCHD   No. Observations:                 4238\n",
      "Model:                          Logit   Df Residuals:                     4231\n",
      "Method:                           MLE   Df Model:                            6\n",
      "Date:                Mon, 16 Aug 2021   Pseudo R-squ.:                  0.1088\n",
      "Time:                        22:30:21   Log-Likelihood:                -1609.3\n",
      "converged:                       True   LL-Null:                       -1805.8\n",
      "Covariance Type:            nonrobust   LLR p-value:                 9.060e-82\n",
      "===================================================================================\n",
      "                      coef    std err          z      P>|z|      [0.025      0.975]\n",
      "-----------------------------------------------------------------------------------\n",
      "const              -8.4613      0.390    -21.720      0.000      -9.225      -7.698\n",
      "male                0.4858      0.097      4.997      0.000       0.295       0.676\n",
      "age                 0.0647      0.006     10.917      0.000       0.053       0.076\n",
      "cigsPerDay          0.0214      0.004      5.560      0.000       0.014       0.029\n",
      "prevalentStroke     1.0465      0.436      2.399      0.016       0.192       1.901\n",
      "sysBP               0.0171      0.002      8.531      0.000       0.013       0.021\n",
      "glucose             0.0076      0.002      4.646      0.000       0.004       0.011\n",
      "===================================================================================\n"
     ]
    }
   ],
   "source": [
    "X = X.drop('prevalentHyp', axis=1)\n",
    "log_reg = sm.Logit(y, X).fit()\n",
    "print(log_reg.summary())"
   ]
  },
  {
   "cell_type": "code",
   "execution_count": 136,
   "id": "16569d1f",
   "metadata": {},
   "outputs": [],
   "source": [
    "#Scaling features\n",
    "scaler = StandardScaler()\n",
    "X_std = scaler.fit_transform(X)"
   ]
  },
  {
   "cell_type": "code",
   "execution_count": 137,
   "id": "c52c43c4",
   "metadata": {},
   "outputs": [
    {
     "data": {
      "text/plain": [
       "0.8608490566037735"
      ]
     },
     "execution_count": 137,
     "metadata": {},
     "output_type": "execute_result"
    }
   ],
   "source": [
    "#train test splitting\n",
    "X_train, X_test, y_train, y_test = train_test_split(X_std,y, test_size=0.2,random_state=455)\n",
    "#Fitting Linear regression\n",
    "clf=LogisticRegression( max_iter=10000 )\n",
    "clf.fit(X_train,y_train)\n",
    "y_pred = clf.predict(X_test)\n",
    "accuracy_score(y_test,y_pred)"
   ]
  },
  {
   "cell_type": "code",
   "execution_count": 138,
   "id": "0a4647ba",
   "metadata": {},
   "outputs": [
    {
     "name": "stdout",
     "output_type": "stream",
     "text": [
      "Confusion_matrix \n",
      " [[720  10]\n",
      " [108  10]] \n",
      " \n",
      "Accuracy 86.08490566037736\n"
     ]
    }
   ],
   "source": [
    "# Confusion metrix and accuracy :-\n",
    "cm = confusion_matrix(y_test, y_pred)\n",
    "accuracy = accuracy_score(y_test, y_pred)\n",
    "print(\"Confusion_matrix \\n\", cm, \"\\n \\nAccuracy\", accuracy*100)\n"
   ]
  },
  {
   "cell_type": "markdown",
   "id": "67407ab7",
   "metadata": {},
   "source": [
    "# Hyperparameter tuning"
   ]
  },
  {
   "cell_type": "code",
   "execution_count": 139,
   "id": "6d9321c3",
   "metadata": {},
   "outputs": [],
   "source": [
    "param_grid = [    \n",
    "    {'penalty' : ['l1', 'l2', 'elasticnet', 'none'],\n",
    "    'C' : np.logspace(-4, 4, 20),\n",
    "    'solver' : ['lbfgs','newton-cg','liblinear','sag','saga'],\n",
    "    'max_iter' : [100, 1000,2500, 5000]\n",
    "    }\n",
    "]"
   ]
  },
  {
   "cell_type": "code",
   "execution_count": 142,
   "id": "68f5a153",
   "metadata": {},
   "outputs": [],
   "source": [
    "from sklearn.model_selection import GridSearchCV\n",
    "Log = GridSearchCV(clf, param_grid = param_grid, cv = 5, verbose=True, n_jobs=-1)"
   ]
  },
  {
   "cell_type": "code",
   "execution_count": 143,
   "id": "b769f5a3",
   "metadata": {},
   "outputs": [
    {
     "name": "stdout",
     "output_type": "stream",
     "text": [
      "Fitting 5 folds for each of 1600 candidates, totalling 8000 fits\n"
     ]
    },
    {
     "name": "stderr",
     "output_type": "stream",
     "text": [
      "C:\\ProgramData\\Anaconda3\\lib\\site-packages\\sklearn\\model_selection\\_search.py:918: UserWarning: One or more of the test scores are non-finite: [       nan        nan 0.84804165 ...        nan 0.85252584 0.85252584]\n",
      "  warnings.warn(\n"
     ]
    }
   ],
   "source": [
    "best_clf = Log.fit(X_std,y)"
   ]
  },
  {
   "cell_type": "code",
   "execution_count": 144,
   "id": "66fadc0f",
   "metadata": {},
   "outputs": [
    {
     "data": {
      "text/plain": [
       "LogisticRegression(C=0.03359818286283781)"
      ]
     },
     "execution_count": 144,
     "metadata": {},
     "output_type": "execute_result"
    }
   ],
   "source": [
    "best_clf.best_estimator_"
   ]
  },
  {
   "cell_type": "code",
   "execution_count": 145,
   "id": "26dec5ad",
   "metadata": {},
   "outputs": [
    {
     "name": "stdout",
     "output_type": "stream",
     "text": [
      "Accuracy - : 0.854\n"
     ]
    }
   ],
   "source": [
    "print (f'Accuracy - : {best_clf.score(X_std,y):.3f}')"
   ]
  },
  {
   "cell_type": "code",
   "execution_count": 146,
   "id": "b92ea5ca",
   "metadata": {},
   "outputs": [],
   "source": [
    "#Hence the acuracy for our model is 85.4%"
   ]
  },
  {
   "cell_type": "code",
   "execution_count": null,
   "id": "d71b02f1",
   "metadata": {},
   "outputs": [],
   "source": []
  },
  {
   "cell_type": "code",
   "execution_count": null,
   "id": "8422cc36",
   "metadata": {},
   "outputs": [],
   "source": []
  },
  {
   "cell_type": "code",
   "execution_count": null,
   "id": "eb698814",
   "metadata": {},
   "outputs": [],
   "source": []
  },
  {
   "cell_type": "code",
   "execution_count": null,
   "id": "daf3f965",
   "metadata": {},
   "outputs": [],
   "source": []
  },
  {
   "cell_type": "code",
   "execution_count": null,
   "id": "3d8610bf",
   "metadata": {},
   "outputs": [],
   "source": []
  },
  {
   "cell_type": "code",
   "execution_count": null,
   "id": "15699543",
   "metadata": {},
   "outputs": [],
   "source": []
  }
 ],
 "metadata": {
  "kernelspec": {
   "display_name": "Python 3",
   "language": "python",
   "name": "python3"
  },
  "language_info": {
   "codemirror_mode": {
    "name": "ipython",
    "version": 3
   },
   "file_extension": ".py",
   "mimetype": "text/x-python",
   "name": "python",
   "nbconvert_exporter": "python",
   "pygments_lexer": "ipython3",
   "version": "3.8.8"
  }
 },
 "nbformat": 4,
 "nbformat_minor": 5
}
